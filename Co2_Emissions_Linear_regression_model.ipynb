{
  "nbformat": 4,
  "nbformat_minor": 0,
  "metadata": {
    "colab": {
      "provenance": [],
      "collapsed_sections": [
        "5hqQmyJjq-wH"
      ]
    },
    "kernelspec": {
      "name": "python3",
      "display_name": "Python 3"
    },
    "language_info": {
      "name": "python"
    }
  },
  "cells": [
    {
      "cell_type": "markdown",
      "source": [
        "# **CO2 Emissions Prediction (Linear regression) :**"
      ],
      "metadata": {
        "id": "wCpGfCYIKCs_"
      }
    },
    {
      "cell_type": "markdown",
      "source": [
        "\n",
        "In this project, we're going to predict CO2 emissions using a machine learning model called linear regression.\n",
        "\n",
        "First, we'll look at the data to learn more about it. We'll find out what makes sense in the data and get it ready for our prediction.\n",
        "\n",
        "Our exploration will lead us to Ordinary Least Squares (OLS) regression, a valuable tool that enables us to assess the significance of multiple attributes as predictors of CO2 Emissions. By examining the p-values associated with these attributes, we can determine their impact and relevance to our prediction model.\n",
        "\n",
        "Once we know what's important, we'll create our prediction tool. This tool, called a linear regression model, will help us guess how much CO2 is produced from the fuel used.\n",
        "\n",
        "As a final step, we will also create visualizations to compare the actual and predicted CO2 emissions using the training set."
      ],
      "metadata": {
        "id": "zP3VlbWqMHPk"
      }
    },
    {
      "cell_type": "markdown",
      "source": [
        "# **Importing Essential Python Libraries for Data Analysis and Visualization :**"
      ],
      "metadata": {
        "id": "OqbjoPAMJl0s"
      }
    },
    {
      "cell_type": "code",
      "source": [
        "# Import packages:\n",
        "import matplotlib.pyplot as plt\n",
        "import pandas as pd\n",
        "import pylab as pl\n",
        "import numpy as np\n",
        "import statsmodels.api as sm\n",
        "%matplotlib inline"
      ],
      "metadata": {
        "id": "PWd_y2sorxA1"
      },
      "execution_count": 23,
      "outputs": []
    },
    {
      "cell_type": "markdown",
      "source": [
        "# **Data Exploration**"
      ],
      "metadata": {
        "id": "5hqQmyJjq-wH"
      }
    },
    {
      "cell_type": "code",
      "execution_count": 24,
      "metadata": {
        "id": "4pNCfeB1phY4"
      },
      "outputs": [],
      "source": [
        "df = pd.read_csv('/content/Fuel Consumption Co2.csv', encoding='iso-8859-1')"
      ]
    },
    {
      "cell_type": "code",
      "source": [
        "df.head(5)"
      ],
      "metadata": {
        "id": "XYWiYW3zsx0V",
        "colab": {
          "base_uri": "https://localhost:8080/",
          "height": 278
        },
        "outputId": "0639997a-50b3-4c48-87d0-9aa794524232"
      },
      "execution_count": 25,
      "outputs": [
        {
          "output_type": "execute_result",
          "data": {
            "text/plain": [
              "   MODELYEAR   MAKE       MODEL VEHICLECLASS  ENGINESIZE  CYLINDERS  \\\n",
              "0       2014  ACURA         ILX      COMPACT         2.0          4   \n",
              "1       2014  ACURA         ILX      COMPACT         2.4          4   \n",
              "2       2014  ACURA  ILX HYBRID      COMPACT         1.5          4   \n",
              "3       2014  ACURA     MDX 4WD  SUV - SMALL         3.5          6   \n",
              "4       2014  ACURA     RDX AWD  SUV - SMALL         3.5          6   \n",
              "\n",
              "  TRANSMISSION FUELTYPE  FUELCONSUMPTION_CITY  FUELCONSUMPTION_HWY  \\\n",
              "0          AS5        Z                   9.9                  6.7   \n",
              "1           M6        Z                  11.2                  7.7   \n",
              "2          AV7        Z                   6.0                  5.8   \n",
              "3          AS6        Z                  12.7                  9.1   \n",
              "4          AS6        Z                  12.1                  8.7   \n",
              "\n",
              "   FUELCONSUMPTION_COMB  FUELCONSUMPTION_COMB_MPG  CO2EMISSIONS  \n",
              "0                   8.5                        33           196  \n",
              "1                   9.6                        29           221  \n",
              "2                   5.9                        48           136  \n",
              "3                  11.1                        25           255  \n",
              "4                  10.6                        27           244  "
            ],
            "text/html": [
              "\n",
              "  <div id=\"df-507a6d86-8013-4314-bac8-bf97f13ad636\" class=\"colab-df-container\">\n",
              "    <div>\n",
              "<style scoped>\n",
              "    .dataframe tbody tr th:only-of-type {\n",
              "        vertical-align: middle;\n",
              "    }\n",
              "\n",
              "    .dataframe tbody tr th {\n",
              "        vertical-align: top;\n",
              "    }\n",
              "\n",
              "    .dataframe thead th {\n",
              "        text-align: right;\n",
              "    }\n",
              "</style>\n",
              "<table border=\"1\" class=\"dataframe\">\n",
              "  <thead>\n",
              "    <tr style=\"text-align: right;\">\n",
              "      <th></th>\n",
              "      <th>MODELYEAR</th>\n",
              "      <th>MAKE</th>\n",
              "      <th>MODEL</th>\n",
              "      <th>VEHICLECLASS</th>\n",
              "      <th>ENGINESIZE</th>\n",
              "      <th>CYLINDERS</th>\n",
              "      <th>TRANSMISSION</th>\n",
              "      <th>FUELTYPE</th>\n",
              "      <th>FUELCONSUMPTION_CITY</th>\n",
              "      <th>FUELCONSUMPTION_HWY</th>\n",
              "      <th>FUELCONSUMPTION_COMB</th>\n",
              "      <th>FUELCONSUMPTION_COMB_MPG</th>\n",
              "      <th>CO2EMISSIONS</th>\n",
              "    </tr>\n",
              "  </thead>\n",
              "  <tbody>\n",
              "    <tr>\n",
              "      <th>0</th>\n",
              "      <td>2014</td>\n",
              "      <td>ACURA</td>\n",
              "      <td>ILX</td>\n",
              "      <td>COMPACT</td>\n",
              "      <td>2.0</td>\n",
              "      <td>4</td>\n",
              "      <td>AS5</td>\n",
              "      <td>Z</td>\n",
              "      <td>9.9</td>\n",
              "      <td>6.7</td>\n",
              "      <td>8.5</td>\n",
              "      <td>33</td>\n",
              "      <td>196</td>\n",
              "    </tr>\n",
              "    <tr>\n",
              "      <th>1</th>\n",
              "      <td>2014</td>\n",
              "      <td>ACURA</td>\n",
              "      <td>ILX</td>\n",
              "      <td>COMPACT</td>\n",
              "      <td>2.4</td>\n",
              "      <td>4</td>\n",
              "      <td>M6</td>\n",
              "      <td>Z</td>\n",
              "      <td>11.2</td>\n",
              "      <td>7.7</td>\n",
              "      <td>9.6</td>\n",
              "      <td>29</td>\n",
              "      <td>221</td>\n",
              "    </tr>\n",
              "    <tr>\n",
              "      <th>2</th>\n",
              "      <td>2014</td>\n",
              "      <td>ACURA</td>\n",
              "      <td>ILX HYBRID</td>\n",
              "      <td>COMPACT</td>\n",
              "      <td>1.5</td>\n",
              "      <td>4</td>\n",
              "      <td>AV7</td>\n",
              "      <td>Z</td>\n",
              "      <td>6.0</td>\n",
              "      <td>5.8</td>\n",
              "      <td>5.9</td>\n",
              "      <td>48</td>\n",
              "      <td>136</td>\n",
              "    </tr>\n",
              "    <tr>\n",
              "      <th>3</th>\n",
              "      <td>2014</td>\n",
              "      <td>ACURA</td>\n",
              "      <td>MDX 4WD</td>\n",
              "      <td>SUV - SMALL</td>\n",
              "      <td>3.5</td>\n",
              "      <td>6</td>\n",
              "      <td>AS6</td>\n",
              "      <td>Z</td>\n",
              "      <td>12.7</td>\n",
              "      <td>9.1</td>\n",
              "      <td>11.1</td>\n",
              "      <td>25</td>\n",
              "      <td>255</td>\n",
              "    </tr>\n",
              "    <tr>\n",
              "      <th>4</th>\n",
              "      <td>2014</td>\n",
              "      <td>ACURA</td>\n",
              "      <td>RDX AWD</td>\n",
              "      <td>SUV - SMALL</td>\n",
              "      <td>3.5</td>\n",
              "      <td>6</td>\n",
              "      <td>AS6</td>\n",
              "      <td>Z</td>\n",
              "      <td>12.1</td>\n",
              "      <td>8.7</td>\n",
              "      <td>10.6</td>\n",
              "      <td>27</td>\n",
              "      <td>244</td>\n",
              "    </tr>\n",
              "  </tbody>\n",
              "</table>\n",
              "</div>\n",
              "    <div class=\"colab-df-buttons\">\n",
              "\n",
              "  <div class=\"colab-df-container\">\n",
              "    <button class=\"colab-df-convert\" onclick=\"convertToInteractive('df-507a6d86-8013-4314-bac8-bf97f13ad636')\"\n",
              "            title=\"Convert this dataframe to an interactive table.\"\n",
              "            style=\"display:none;\">\n",
              "\n",
              "  <svg xmlns=\"http://www.w3.org/2000/svg\" height=\"24px\" viewBox=\"0 -960 960 960\">\n",
              "    <path d=\"M120-120v-720h720v720H120Zm60-500h600v-160H180v160Zm220 220h160v-160H400v160Zm0 220h160v-160H400v160ZM180-400h160v-160H180v160Zm440 0h160v-160H620v160ZM180-180h160v-160H180v160Zm440 0h160v-160H620v160Z\"/>\n",
              "  </svg>\n",
              "    </button>\n",
              "\n",
              "  <style>\n",
              "    .colab-df-container {\n",
              "      display:flex;\n",
              "      gap: 12px;\n",
              "    }\n",
              "\n",
              "    .colab-df-convert {\n",
              "      background-color: #E8F0FE;\n",
              "      border: none;\n",
              "      border-radius: 50%;\n",
              "      cursor: pointer;\n",
              "      display: none;\n",
              "      fill: #1967D2;\n",
              "      height: 32px;\n",
              "      padding: 0 0 0 0;\n",
              "      width: 32px;\n",
              "    }\n",
              "\n",
              "    .colab-df-convert:hover {\n",
              "      background-color: #E2EBFA;\n",
              "      box-shadow: 0px 1px 2px rgba(60, 64, 67, 0.3), 0px 1px 3px 1px rgba(60, 64, 67, 0.15);\n",
              "      fill: #174EA6;\n",
              "    }\n",
              "\n",
              "    .colab-df-buttons div {\n",
              "      margin-bottom: 4px;\n",
              "    }\n",
              "\n",
              "    [theme=dark] .colab-df-convert {\n",
              "      background-color: #3B4455;\n",
              "      fill: #D2E3FC;\n",
              "    }\n",
              "\n",
              "    [theme=dark] .colab-df-convert:hover {\n",
              "      background-color: #434B5C;\n",
              "      box-shadow: 0px 1px 3px 1px rgba(0, 0, 0, 0.15);\n",
              "      filter: drop-shadow(0px 1px 2px rgba(0, 0, 0, 0.3));\n",
              "      fill: #FFFFFF;\n",
              "    }\n",
              "  </style>\n",
              "\n",
              "    <script>\n",
              "      const buttonEl =\n",
              "        document.querySelector('#df-507a6d86-8013-4314-bac8-bf97f13ad636 button.colab-df-convert');\n",
              "      buttonEl.style.display =\n",
              "        google.colab.kernel.accessAllowed ? 'block' : 'none';\n",
              "\n",
              "      async function convertToInteractive(key) {\n",
              "        const element = document.querySelector('#df-507a6d86-8013-4314-bac8-bf97f13ad636');\n",
              "        const dataTable =\n",
              "          await google.colab.kernel.invokeFunction('convertToInteractive',\n",
              "                                                    [key], {});\n",
              "        if (!dataTable) return;\n",
              "\n",
              "        const docLinkHtml = 'Like what you see? Visit the ' +\n",
              "          '<a target=\"_blank\" href=https://colab.research.google.com/notebooks/data_table.ipynb>data table notebook</a>'\n",
              "          + ' to learn more about interactive tables.';\n",
              "        element.innerHTML = '';\n",
              "        dataTable['output_type'] = 'display_data';\n",
              "        await google.colab.output.renderOutput(dataTable, element);\n",
              "        const docLink = document.createElement('div');\n",
              "        docLink.innerHTML = docLinkHtml;\n",
              "        element.appendChild(docLink);\n",
              "      }\n",
              "    </script>\n",
              "  </div>\n",
              "\n",
              "\n",
              "<div id=\"df-2539300b-de85-4ea8-89a2-410a73b2d3df\">\n",
              "  <button class=\"colab-df-quickchart\" onclick=\"quickchart('df-2539300b-de85-4ea8-89a2-410a73b2d3df')\"\n",
              "            title=\"Suggest charts.\"\n",
              "            style=\"display:none;\">\n",
              "\n",
              "<svg xmlns=\"http://www.w3.org/2000/svg\" height=\"24px\"viewBox=\"0 0 24 24\"\n",
              "     width=\"24px\">\n",
              "    <g>\n",
              "        <path d=\"M19 3H5c-1.1 0-2 .9-2 2v14c0 1.1.9 2 2 2h14c1.1 0 2-.9 2-2V5c0-1.1-.9-2-2-2zM9 17H7v-7h2v7zm4 0h-2V7h2v10zm4 0h-2v-4h2v4z\"/>\n",
              "    </g>\n",
              "</svg>\n",
              "  </button>\n",
              "\n",
              "<style>\n",
              "  .colab-df-quickchart {\n",
              "    background-color: #E8F0FE;\n",
              "    border: none;\n",
              "    border-radius: 50%;\n",
              "    cursor: pointer;\n",
              "    display: none;\n",
              "    fill: #1967D2;\n",
              "    height: 32px;\n",
              "    padding: 0 0 0 0;\n",
              "    width: 32px;\n",
              "  }\n",
              "\n",
              "  .colab-df-quickchart:hover {\n",
              "    background-color: #E2EBFA;\n",
              "    box-shadow: 0px 1px 2px rgba(60, 64, 67, 0.3), 0px 1px 3px 1px rgba(60, 64, 67, 0.15);\n",
              "    fill: #174EA6;\n",
              "  }\n",
              "\n",
              "  [theme=dark] .colab-df-quickchart {\n",
              "    background-color: #3B4455;\n",
              "    fill: #D2E3FC;\n",
              "  }\n",
              "\n",
              "  [theme=dark] .colab-df-quickchart:hover {\n",
              "    background-color: #434B5C;\n",
              "    box-shadow: 0px 1px 3px 1px rgba(0, 0, 0, 0.15);\n",
              "    filter: drop-shadow(0px 1px 2px rgba(0, 0, 0, 0.3));\n",
              "    fill: #FFFFFF;\n",
              "  }\n",
              "</style>\n",
              "\n",
              "  <script>\n",
              "    async function quickchart(key) {\n",
              "      const charts = await google.colab.kernel.invokeFunction(\n",
              "          'suggestCharts', [key], {});\n",
              "    }\n",
              "    (() => {\n",
              "      let quickchartButtonEl =\n",
              "        document.querySelector('#df-2539300b-de85-4ea8-89a2-410a73b2d3df button');\n",
              "      quickchartButtonEl.style.display =\n",
              "        google.colab.kernel.accessAllowed ? 'block' : 'none';\n",
              "    })();\n",
              "  </script>\n",
              "</div>\n",
              "    </div>\n",
              "  </div>\n"
            ]
          },
          "metadata": {},
          "execution_count": 25
        }
      ]
    },
    {
      "cell_type": "code",
      "source": [
        "df.describe"
      ],
      "metadata": {
        "id": "wySu2tFhALIk",
        "colab": {
          "base_uri": "https://localhost:8080/"
        },
        "outputId": "e02ab7c9-fb3a-499f-c110-36b499384349"
      },
      "execution_count": 26,
      "outputs": [
        {
          "output_type": "execute_result",
          "data": {
            "text/plain": [
              "<bound method NDFrame.describe of       MODELYEAR   MAKE       MODEL    VEHICLECLASS  ENGINESIZE  CYLINDERS  \\\n",
              "0          2014  ACURA         ILX         COMPACT         2.0          4   \n",
              "1          2014  ACURA         ILX         COMPACT         2.4          4   \n",
              "2          2014  ACURA  ILX HYBRID         COMPACT         1.5          4   \n",
              "3          2014  ACURA     MDX 4WD     SUV - SMALL         3.5          6   \n",
              "4          2014  ACURA     RDX AWD     SUV - SMALL         3.5          6   \n",
              "...         ...    ...         ...             ...         ...        ...   \n",
              "1062       2014  VOLVO    XC60 AWD     SUV - SMALL         3.0          6   \n",
              "1063       2014  VOLVO    XC60 AWD     SUV - SMALL         3.2          6   \n",
              "1064       2014  VOLVO    XC70 AWD     SUV - SMALL         3.0          6   \n",
              "1065       2014  VOLVO    XC70 AWD     SUV - SMALL         3.2          6   \n",
              "1066       2014  VOLVO    XC90 AWD  SUV - STANDARD         3.2          6   \n",
              "\n",
              "     TRANSMISSION FUELTYPE  FUELCONSUMPTION_CITY  FUELCONSUMPTION_HWY  \\\n",
              "0             AS5        Z                   9.9                  6.7   \n",
              "1              M6        Z                  11.2                  7.7   \n",
              "2             AV7        Z                   6.0                  5.8   \n",
              "3             AS6        Z                  12.7                  9.1   \n",
              "4             AS6        Z                  12.1                  8.7   \n",
              "...           ...      ...                   ...                  ...   \n",
              "1062          AS6        X                  13.4                  9.8   \n",
              "1063          AS6        X                  13.2                  9.5   \n",
              "1064          AS6        X                  13.4                  9.8   \n",
              "1065          AS6        X                  12.9                  9.3   \n",
              "1066          AS6        X                  14.9                 10.2   \n",
              "\n",
              "      FUELCONSUMPTION_COMB  FUELCONSUMPTION_COMB_MPG  CO2EMISSIONS  \n",
              "0                      8.5                        33           196  \n",
              "1                      9.6                        29           221  \n",
              "2                      5.9                        48           136  \n",
              "3                     11.1                        25           255  \n",
              "4                     10.6                        27           244  \n",
              "...                    ...                       ...           ...  \n",
              "1062                  11.8                        24           271  \n",
              "1063                  11.5                        25           264  \n",
              "1064                  11.8                        24           271  \n",
              "1065                  11.3                        25           260  \n",
              "1066                  12.8                        22           294  \n",
              "\n",
              "[1067 rows x 13 columns]>"
            ]
          },
          "metadata": {},
          "execution_count": 26
        }
      ]
    },
    {
      "cell_type": "code",
      "source": [
        "df.dtypes"
      ],
      "metadata": {
        "id": "QFyMAaNwLXIJ",
        "colab": {
          "base_uri": "https://localhost:8080/"
        },
        "outputId": "78ad0bd4-38ae-4814-d478-38d31f70d37e"
      },
      "execution_count": 27,
      "outputs": [
        {
          "output_type": "execute_result",
          "data": {
            "text/plain": [
              "MODELYEAR                     int64\n",
              "MAKE                         object\n",
              "MODEL                        object\n",
              "VEHICLECLASS                 object\n",
              "ENGINESIZE                  float64\n",
              "CYLINDERS                     int64\n",
              "TRANSMISSION                 object\n",
              "FUELTYPE                     object\n",
              "FUELCONSUMPTION_CITY        float64\n",
              "FUELCONSUMPTION_HWY         float64\n",
              "FUELCONSUMPTION_COMB        float64\n",
              "FUELCONSUMPTION_COMB_MPG      int64\n",
              "CO2EMISSIONS                  int64\n",
              "dtype: object"
            ]
          },
          "metadata": {},
          "execution_count": 27
        }
      ]
    },
    {
      "cell_type": "code",
      "source": [
        "#checking if there's any rows that have missing values\n",
        "df.isnull().sum()"
      ],
      "metadata": {
        "id": "kGjySoSkC92Z",
        "colab": {
          "base_uri": "https://localhost:8080/"
        },
        "outputId": "008b9c0d-e211-47f5-943d-21d3b681d809"
      },
      "execution_count": 28,
      "outputs": [
        {
          "output_type": "execute_result",
          "data": {
            "text/plain": [
              "MODELYEAR                   0\n",
              "MAKE                        0\n",
              "MODEL                       0\n",
              "VEHICLECLASS                0\n",
              "ENGINESIZE                  0\n",
              "CYLINDERS                   0\n",
              "TRANSMISSION                0\n",
              "FUELTYPE                    0\n",
              "FUELCONSUMPTION_CITY        0\n",
              "FUELCONSUMPTION_HWY         0\n",
              "FUELCONSUMPTION_COMB        0\n",
              "FUELCONSUMPTION_COMB_MPG    0\n",
              "CO2EMISSIONS                0\n",
              "dtype: int64"
            ]
          },
          "metadata": {},
          "execution_count": 28
        }
      ]
    },
    {
      "cell_type": "markdown",
      "source": [
        "# **OLS Regression Results**"
      ],
      "metadata": {
        "id": "XEbpy4eOT21J"
      }
    },
    {
      "cell_type": "code",
      "source": [
        "# Select the dependent variable (Y) and independent variables (X)\n",
        "Y = df['CO2EMISSIONS']\n",
        "X = df[['ENGINESIZE', 'CYLINDERS','FUELCONSUMPTION_CITY', 'FUELCONSUMPTION_HWY', 'FUELCONSUMPTION_COMB', 'FUELCONSUMPTION_COMB_MPG']]\n",
        "\n",
        "# Add constant term to the independent variables\n",
        "X = sm.add_constant(X)\n",
        "\n",
        "# Fit the OLS model\n",
        "model = sm.OLS(Y, X).fit()\n",
        "\n",
        "# Get the regression summary\n",
        "summary = model.summary()\n",
        "\n",
        "print(summary)"
      ],
      "metadata": {
        "id": "ebBAcKGC_jWf",
        "colab": {
          "base_uri": "https://localhost:8080/"
        },
        "outputId": "adae67c3-1c59-4f7d-c50d-b450de1e5dc1"
      },
      "execution_count": 29,
      "outputs": [
        {
          "output_type": "stream",
          "name": "stdout",
          "text": [
            "                            OLS Regression Results                            \n",
            "==============================================================================\n",
            "Dep. Variable:           CO2EMISSIONS   R-squared:                       0.889\n",
            "Model:                            OLS   Adj. R-squared:                  0.889\n",
            "Method:                 Least Squares   F-statistic:                     1419.\n",
            "Date:                Wed, 23 Aug 2023   Prob (F-statistic):               0.00\n",
            "Time:                        13:16:19   Log-Likelihood:                -4766.4\n",
            "No. Observations:                1067   AIC:                             9547.\n",
            "Df Residuals:                    1060   BIC:                             9582.\n",
            "Df Model:                           6                                         \n",
            "Covariance Type:            nonrobust                                         \n",
            "============================================================================================\n",
            "                               coef    std err          t      P>|t|      [0.025      0.975]\n",
            "--------------------------------------------------------------------------------------------\n",
            "const                      253.5312     12.451     20.362      0.000     229.099     277.964\n",
            "ENGINESIZE                   8.5777      1.418      6.049      0.000       5.795      11.360\n",
            "CYLINDERS                    7.6987      1.047      7.356      0.000       5.645       9.752\n",
            "FUELCONSUMPTION_CITY       -10.5926     12.440     -0.851      0.395     -35.003      13.818\n",
            "FUELCONSUMPTION_HWY         -3.4892     10.255     -0.340      0.734     -23.612      16.633\n",
            "FUELCONSUMPTION_COMB        17.7529     22.618      0.785      0.433     -26.628      62.134\n",
            "FUELCONSUMPTION_COMB_MPG    -3.8692      0.250    -15.505      0.000      -4.359      -3.380\n",
            "==============================================================================\n",
            "Omnibus:                       76.623   Durbin-Watson:                   1.654\n",
            "Prob(Omnibus):                  0.000   Jarque-Bera (JB):              347.468\n",
            "Skew:                          -0.100   Prob(JB):                     3.53e-76\n",
            "Kurtosis:                       5.788   Cond. No.                     1.46e+03\n",
            "==============================================================================\n",
            "\n",
            "Notes:\n",
            "[1] Standard Errors assume that the covariance matrix of the errors is correctly specified.\n",
            "[2] The condition number is large, 1.46e+03. This might indicate that there are\n",
            "strong multicollinearity or other numerical problems.\n"
          ]
        }
      ]
    },
    {
      "cell_type": "markdown",
      "source": [
        " According to the p-value, both ENGINESIZE and CYLINDERS are more significant predictors of CO2EMISSIONS\n",
        "\n",
        "---\n",
        "\n"
      ],
      "metadata": {
        "id": "MFvvm0BiUeB4"
      }
    },
    {
      "cell_type": "markdown",
      "source": [
        "Let's select the ENGINESIZE, CYLINDERS and CO2EMISSIONS features to explore more\n"
      ],
      "metadata": {
        "id": "_aXupLg9sTV2"
      }
    },
    {
      "cell_type": "code",
      "source": [
        "#we gonna select only these 3 columns:\n",
        "data= df[[\"ENGINESIZE\", \"CYLINDERS\",\"CO2EMISSIONS\"]]\n",
        "data"
      ],
      "metadata": {
        "id": "zHpa-ah0sARQ",
        "colab": {
          "base_uri": "https://localhost:8080/",
          "height": 423
        },
        "outputId": "111f8e34-b9aa-4068-f4df-19eb7cb9f353"
      },
      "execution_count": 30,
      "outputs": [
        {
          "output_type": "execute_result",
          "data": {
            "text/plain": [
              "      ENGINESIZE  CYLINDERS  CO2EMISSIONS\n",
              "0            2.0          4           196\n",
              "1            2.4          4           221\n",
              "2            1.5          4           136\n",
              "3            3.5          6           255\n",
              "4            3.5          6           244\n",
              "...          ...        ...           ...\n",
              "1062         3.0          6           271\n",
              "1063         3.2          6           264\n",
              "1064         3.0          6           271\n",
              "1065         3.2          6           260\n",
              "1066         3.2          6           294\n",
              "\n",
              "[1067 rows x 3 columns]"
            ],
            "text/html": [
              "\n",
              "  <div id=\"df-2237077f-b9fb-4542-9fd7-68fdf4c70066\" class=\"colab-df-container\">\n",
              "    <div>\n",
              "<style scoped>\n",
              "    .dataframe tbody tr th:only-of-type {\n",
              "        vertical-align: middle;\n",
              "    }\n",
              "\n",
              "    .dataframe tbody tr th {\n",
              "        vertical-align: top;\n",
              "    }\n",
              "\n",
              "    .dataframe thead th {\n",
              "        text-align: right;\n",
              "    }\n",
              "</style>\n",
              "<table border=\"1\" class=\"dataframe\">\n",
              "  <thead>\n",
              "    <tr style=\"text-align: right;\">\n",
              "      <th></th>\n",
              "      <th>ENGINESIZE</th>\n",
              "      <th>CYLINDERS</th>\n",
              "      <th>CO2EMISSIONS</th>\n",
              "    </tr>\n",
              "  </thead>\n",
              "  <tbody>\n",
              "    <tr>\n",
              "      <th>0</th>\n",
              "      <td>2.0</td>\n",
              "      <td>4</td>\n",
              "      <td>196</td>\n",
              "    </tr>\n",
              "    <tr>\n",
              "      <th>1</th>\n",
              "      <td>2.4</td>\n",
              "      <td>4</td>\n",
              "      <td>221</td>\n",
              "    </tr>\n",
              "    <tr>\n",
              "      <th>2</th>\n",
              "      <td>1.5</td>\n",
              "      <td>4</td>\n",
              "      <td>136</td>\n",
              "    </tr>\n",
              "    <tr>\n",
              "      <th>3</th>\n",
              "      <td>3.5</td>\n",
              "      <td>6</td>\n",
              "      <td>255</td>\n",
              "    </tr>\n",
              "    <tr>\n",
              "      <th>4</th>\n",
              "      <td>3.5</td>\n",
              "      <td>6</td>\n",
              "      <td>244</td>\n",
              "    </tr>\n",
              "    <tr>\n",
              "      <th>...</th>\n",
              "      <td>...</td>\n",
              "      <td>...</td>\n",
              "      <td>...</td>\n",
              "    </tr>\n",
              "    <tr>\n",
              "      <th>1062</th>\n",
              "      <td>3.0</td>\n",
              "      <td>6</td>\n",
              "      <td>271</td>\n",
              "    </tr>\n",
              "    <tr>\n",
              "      <th>1063</th>\n",
              "      <td>3.2</td>\n",
              "      <td>6</td>\n",
              "      <td>264</td>\n",
              "    </tr>\n",
              "    <tr>\n",
              "      <th>1064</th>\n",
              "      <td>3.0</td>\n",
              "      <td>6</td>\n",
              "      <td>271</td>\n",
              "    </tr>\n",
              "    <tr>\n",
              "      <th>1065</th>\n",
              "      <td>3.2</td>\n",
              "      <td>6</td>\n",
              "      <td>260</td>\n",
              "    </tr>\n",
              "    <tr>\n",
              "      <th>1066</th>\n",
              "      <td>3.2</td>\n",
              "      <td>6</td>\n",
              "      <td>294</td>\n",
              "    </tr>\n",
              "  </tbody>\n",
              "</table>\n",
              "<p>1067 rows × 3 columns</p>\n",
              "</div>\n",
              "    <div class=\"colab-df-buttons\">\n",
              "\n",
              "  <div class=\"colab-df-container\">\n",
              "    <button class=\"colab-df-convert\" onclick=\"convertToInteractive('df-2237077f-b9fb-4542-9fd7-68fdf4c70066')\"\n",
              "            title=\"Convert this dataframe to an interactive table.\"\n",
              "            style=\"display:none;\">\n",
              "\n",
              "  <svg xmlns=\"http://www.w3.org/2000/svg\" height=\"24px\" viewBox=\"0 -960 960 960\">\n",
              "    <path d=\"M120-120v-720h720v720H120Zm60-500h600v-160H180v160Zm220 220h160v-160H400v160Zm0 220h160v-160H400v160ZM180-400h160v-160H180v160Zm440 0h160v-160H620v160ZM180-180h160v-160H180v160Zm440 0h160v-160H620v160Z\"/>\n",
              "  </svg>\n",
              "    </button>\n",
              "\n",
              "  <style>\n",
              "    .colab-df-container {\n",
              "      display:flex;\n",
              "      gap: 12px;\n",
              "    }\n",
              "\n",
              "    .colab-df-convert {\n",
              "      background-color: #E8F0FE;\n",
              "      border: none;\n",
              "      border-radius: 50%;\n",
              "      cursor: pointer;\n",
              "      display: none;\n",
              "      fill: #1967D2;\n",
              "      height: 32px;\n",
              "      padding: 0 0 0 0;\n",
              "      width: 32px;\n",
              "    }\n",
              "\n",
              "    .colab-df-convert:hover {\n",
              "      background-color: #E2EBFA;\n",
              "      box-shadow: 0px 1px 2px rgba(60, 64, 67, 0.3), 0px 1px 3px 1px rgba(60, 64, 67, 0.15);\n",
              "      fill: #174EA6;\n",
              "    }\n",
              "\n",
              "    .colab-df-buttons div {\n",
              "      margin-bottom: 4px;\n",
              "    }\n",
              "\n",
              "    [theme=dark] .colab-df-convert {\n",
              "      background-color: #3B4455;\n",
              "      fill: #D2E3FC;\n",
              "    }\n",
              "\n",
              "    [theme=dark] .colab-df-convert:hover {\n",
              "      background-color: #434B5C;\n",
              "      box-shadow: 0px 1px 3px 1px rgba(0, 0, 0, 0.15);\n",
              "      filter: drop-shadow(0px 1px 2px rgba(0, 0, 0, 0.3));\n",
              "      fill: #FFFFFF;\n",
              "    }\n",
              "  </style>\n",
              "\n",
              "    <script>\n",
              "      const buttonEl =\n",
              "        document.querySelector('#df-2237077f-b9fb-4542-9fd7-68fdf4c70066 button.colab-df-convert');\n",
              "      buttonEl.style.display =\n",
              "        google.colab.kernel.accessAllowed ? 'block' : 'none';\n",
              "\n",
              "      async function convertToInteractive(key) {\n",
              "        const element = document.querySelector('#df-2237077f-b9fb-4542-9fd7-68fdf4c70066');\n",
              "        const dataTable =\n",
              "          await google.colab.kernel.invokeFunction('convertToInteractive',\n",
              "                                                    [key], {});\n",
              "        if (!dataTable) return;\n",
              "\n",
              "        const docLinkHtml = 'Like what you see? Visit the ' +\n",
              "          '<a target=\"_blank\" href=https://colab.research.google.com/notebooks/data_table.ipynb>data table notebook</a>'\n",
              "          + ' to learn more about interactive tables.';\n",
              "        element.innerHTML = '';\n",
              "        dataTable['output_type'] = 'display_data';\n",
              "        await google.colab.output.renderOutput(dataTable, element);\n",
              "        const docLink = document.createElement('div');\n",
              "        docLink.innerHTML = docLinkHtml;\n",
              "        element.appendChild(docLink);\n",
              "      }\n",
              "    </script>\n",
              "  </div>\n",
              "\n",
              "\n",
              "<div id=\"df-741b74a6-0c49-4e91-850b-7c13d9aa18f2\">\n",
              "  <button class=\"colab-df-quickchart\" onclick=\"quickchart('df-741b74a6-0c49-4e91-850b-7c13d9aa18f2')\"\n",
              "            title=\"Suggest charts.\"\n",
              "            style=\"display:none;\">\n",
              "\n",
              "<svg xmlns=\"http://www.w3.org/2000/svg\" height=\"24px\"viewBox=\"0 0 24 24\"\n",
              "     width=\"24px\">\n",
              "    <g>\n",
              "        <path d=\"M19 3H5c-1.1 0-2 .9-2 2v14c0 1.1.9 2 2 2h14c1.1 0 2-.9 2-2V5c0-1.1-.9-2-2-2zM9 17H7v-7h2v7zm4 0h-2V7h2v10zm4 0h-2v-4h2v4z\"/>\n",
              "    </g>\n",
              "</svg>\n",
              "  </button>\n",
              "\n",
              "<style>\n",
              "  .colab-df-quickchart {\n",
              "    background-color: #E8F0FE;\n",
              "    border: none;\n",
              "    border-radius: 50%;\n",
              "    cursor: pointer;\n",
              "    display: none;\n",
              "    fill: #1967D2;\n",
              "    height: 32px;\n",
              "    padding: 0 0 0 0;\n",
              "    width: 32px;\n",
              "  }\n",
              "\n",
              "  .colab-df-quickchart:hover {\n",
              "    background-color: #E2EBFA;\n",
              "    box-shadow: 0px 1px 2px rgba(60, 64, 67, 0.3), 0px 1px 3px 1px rgba(60, 64, 67, 0.15);\n",
              "    fill: #174EA6;\n",
              "  }\n",
              "\n",
              "  [theme=dark] .colab-df-quickchart {\n",
              "    background-color: #3B4455;\n",
              "    fill: #D2E3FC;\n",
              "  }\n",
              "\n",
              "  [theme=dark] .colab-df-quickchart:hover {\n",
              "    background-color: #434B5C;\n",
              "    box-shadow: 0px 1px 3px 1px rgba(0, 0, 0, 0.15);\n",
              "    filter: drop-shadow(0px 1px 2px rgba(0, 0, 0, 0.3));\n",
              "    fill: #FFFFFF;\n",
              "  }\n",
              "</style>\n",
              "\n",
              "  <script>\n",
              "    async function quickchart(key) {\n",
              "      const charts = await google.colab.kernel.invokeFunction(\n",
              "          'suggestCharts', [key], {});\n",
              "    }\n",
              "    (() => {\n",
              "      let quickchartButtonEl =\n",
              "        document.querySelector('#df-741b74a6-0c49-4e91-850b-7c13d9aa18f2 button');\n",
              "      quickchartButtonEl.style.display =\n",
              "        google.colab.kernel.accessAllowed ? 'block' : 'none';\n",
              "    })();\n",
              "  </script>\n",
              "</div>\n",
              "    </div>\n",
              "  </div>\n"
            ]
          },
          "metadata": {},
          "execution_count": 30
        }
      ]
    },
    {
      "cell_type": "markdown",
      "source": [
        "Plot CYLINDER and ENGINESIZE vs the CO2EMISSIONS, to see how linear is their relationship is"
      ],
      "metadata": {
        "id": "Pw4RUjp31EIs"
      }
    },
    {
      "cell_type": "code",
      "source": [
        "# Extract the features and target variables\n",
        "ENGINESIZE = df[\"ENGINESIZE\"]\n",
        "CYLINDER = df[\"CYLINDERS\"]\n",
        "CO2EMISSIONS = df[\"CO2EMISSIONS\"]\n",
        "\n",
        "# Plotting the data\n",
        "plt.figure(figsize=(10, 6))\n",
        "\n",
        "# Plotting the relationship between ENGINESIZE and CO2EMISSIONS\n",
        "plt.subplot(1, 2, 1)\n",
        "plt.scatter(ENGINESIZE, CO2EMISSIONS, color='blue', alpha=0.6)\n",
        "plt.xlabel('ENGINESIZE')\n",
        "plt.ylabel('CO2EMISSIONS')\n",
        "plt.title('ENGINESIZE vs CO2EMISSIONS')\n",
        "\n",
        "# Plotting the relationship between CYLINDER and CO2EMISSIONS\n",
        "plt.subplot(1, 2, 2)\n",
        "plt.scatter(CYLINDER, CO2EMISSIONS, color='green', alpha=0.6)\n",
        "plt.xlabel('CYLINDER')\n",
        "plt.ylabel('CO2EMISSIONS')\n",
        "plt.title('CYLINDER vs CO2EMISSIONS')\n",
        "\n",
        "plt.tight_layout()\n",
        "plt.show()"
      ],
      "metadata": {
        "id": "NOmJI45gtps9",
        "colab": {
          "base_uri": "https://localhost:8080/",
          "height": 607
        },
        "outputId": "b13dcd35-49a2-4de5-a14e-d6aaad030e55"
      },
      "execution_count": 31,
      "outputs": [
        {
          "output_type": "display_data",
          "data": {
            "text/plain": [
              "<Figure size 1000x600 with 2 Axes>"
            ],
            "image/png": "[encoded data removed]"
          },
          "metadata": {}
        }
      ]
    },
    {
      "cell_type": "markdown",
      "source": [
        "# ***Building the model***"
      ],
      "metadata": {
        "id": "ehnLUpWqKfdD"
      }
    },
    {
      "cell_type": "code",
      "source": [
        "# Import packages:\n",
        "from sklearn.model_selection import train_test_split\n",
        "from sklearn.linear_model import LinearRegression\n",
        "from sklearn.metrics import mean_squared_error, mean_absolute_error"
      ],
      "metadata": {
        "id": "I_mAm_5zVrlr"
      },
      "execution_count": 32,
      "outputs": []
    },
    {
      "cell_type": "code",
      "source": [
        "# Extract features (X) and target (y)\n",
        "X = df[['ENGINESIZE', 'CYLINDERS']]\n",
        "y = df['CO2EMISSIONS']\n",
        "print(X)\n",
        "print(y)"
      ],
      "metadata": {
        "id": "arq4qAeHNUnr",
        "colab": {
          "base_uri": "https://localhost:8080/"
        },
        "outputId": "943d8013-2ce4-49a8-90c2-286f4678499d"
      },
      "execution_count": 33,
      "outputs": [
        {
          "output_type": "stream",
          "name": "stdout",
          "text": [
            "      ENGINESIZE  CYLINDERS\n",
            "0            2.0          4\n",
            "1            2.4          4\n",
            "2            1.5          4\n",
            "3            3.5          6\n",
            "4            3.5          6\n",
            "...          ...        ...\n",
            "1062         3.0          6\n",
            "1063         3.2          6\n",
            "1064         3.0          6\n",
            "1065         3.2          6\n",
            "1066         3.2          6\n",
            "\n",
            "[1067 rows x 2 columns]\n",
            "0       196\n",
            "1       221\n",
            "2       136\n",
            "3       255\n",
            "4       244\n",
            "       ... \n",
            "1062    271\n",
            "1063    264\n",
            "1064    271\n",
            "1065    260\n",
            "1066    294\n",
            "Name: CO2EMISSIONS, Length: 1067, dtype: int64\n"
          ]
        }
      ]
    },
    {
      "cell_type": "code",
      "source": [
        "# Split the data into training and testing sets (80% training, 20% testing)\n",
        "X_train, X_test, y_train, y_test = train_test_split(X, y, test_size=0.2, random_state=42)"
      ],
      "metadata": {
        "id": "FkT-y2Rc1Fyj"
      },
      "execution_count": 34,
      "outputs": []
    },
    {
      "cell_type": "code",
      "source": [
        "# Display the shapes of the training and testing datasets\n",
        "print(\"Training data shape (X_train, y_train):\", X_train.shape, y_train.shape)\n",
        "print(\"Testing data shape (X_test, y_test):\", X_test.shape, y_test.shape)"
      ],
      "metadata": {
        "id": "zbXPGpTYP4ks",
        "colab": {
          "base_uri": "https://localhost:8080/"
        },
        "outputId": "509ea504-2b67-4720-d2d1-047a0379fb78"
      },
      "execution_count": 35,
      "outputs": [
        {
          "output_type": "stream",
          "name": "stdout",
          "text": [
            "Training data shape (X_train, y_train): (853, 2) (853,)\n",
            "Testing data shape (X_test, y_test): (214, 2) (214,)\n"
          ]
        }
      ]
    },
    {
      "cell_type": "code",
      "source": [
        "# creating a regression model\n",
        "regr = LinearRegression()\n",
        "\n",
        "# fitting the model\n",
        "regr.fit(X_train, y_train)\n",
        "\n",
        "# Make predictions on the train set y_pred\n",
        "y_pred = regr.predict(X_train)\n",
        "y_pred"
      ],
      "metadata": {
        "id": "Sy_Wk4lf6sD9",
        "colab": {
          "base_uri": "https://localhost:8080/"
        },
        "outputId": "569f52d5-9e9b-456b-8cb1-c801928c173f"
      },
      "execution_count": 36,
      "outputs": [
        {
          "output_type": "execute_result",
          "data": {
            "text/plain": [
              "array([185.42338053, 305.77712357, 248.49464617, 248.49464617,\n",
              "       331.82667063, 305.77712357, 268.75540499, 202.78974524,\n",
              "       294.1995471 , 265.86101087, 299.98833533, 214.3673217 ,\n",
              "       400.08131955, 323.14348827, 343.40424709, 268.75540499,\n",
              "       357.87621768, 262.96661675, 265.86101087, 214.3673217 ,\n",
              "       265.86101087, 202.78974524, 202.78974524, 217.26171582,\n",
              "       185.42338053, 265.86101087, 265.86101087, 265.86101087,\n",
              "       277.43858734, 202.78974524, 262.96661675, 340.50985298,\n",
              "       217.26171582, 294.1995471 , 262.96661675, 191.21216877,\n",
              "       202.78974524, 262.96661675, 331.82667063, 268.75540499,\n",
              "       202.78974524, 402.97571367, 268.75540499, 340.50985298,\n",
              "       265.86101087, 357.87621768, 248.49464617, 185.42338053,\n",
              "       305.77712357, 286.12176969, 323.14348827, 268.75540499,\n",
              "       202.78974524, 265.86101087, 214.3673217 , 331.82667063,\n",
              "       343.40424709, 337.61545886, 191.21216877, 248.49464617,\n",
              "       262.96661675, 277.43858734, 248.49464617, 191.21216877,\n",
              "       214.3673217 , 248.49464617, 265.86101087, 185.42338053,\n",
              "       214.3673217 , 202.78974524, 248.49464617, 334.72106474,\n",
              "       214.3673217 , 317.35470004, 202.78974524, 262.96661675,\n",
              "       265.86101087, 197.000957  , 202.78974524, 311.5659118 ,\n",
              "       331.82667063, 214.3673217 , 346.29864121, 323.14348827,\n",
              "       185.42338053, 202.78974524, 223.05050406, 197.000957  ,\n",
              "       217.26171582, 277.43858734, 385.60934896, 248.49464617,\n",
              "       248.49464617, 202.78974524, 179.6345923 , 214.3673217 ,\n",
              "       248.49464617, 311.5659118 , 323.14348827, 202.78974524,\n",
              "       202.78974524, 191.21216877, 202.78974524, 331.82667063,\n",
              "       357.87621768, 188.31777465, 217.26171582, 202.78974524,\n",
              "       265.86101087, 334.72106474, 262.96661675, 265.86101087,\n",
              "       202.78974524, 305.77712357, 248.49464617, 185.42338053,\n",
              "       357.87621768, 202.78974524, 352.08742945, 265.86101087,\n",
              "       265.86101087, 331.82667063, 214.3673217 , 331.82667063,\n",
              "       323.14348827, 331.82667063, 262.96661675, 239.81146382,\n",
              "       305.77712357, 217.26171582, 197.000957  , 217.26171582,\n",
              "       343.40424709, 331.82667063, 214.3673217 , 202.78974524,\n",
              "       357.87621768, 191.21216877, 202.78974524, 191.21216877,\n",
              "       248.49464617, 217.26171582, 331.82667063, 262.96661675,\n",
              "       331.82667063, 271.64979911, 317.35470004, 268.75540499,\n",
              "       352.08742945, 217.26171582, 214.3673217 , 191.21216877,\n",
              "       271.64979911, 357.87621768, 225.6421957 , 191.21216877,\n",
              "       202.78974524, 217.26171582, 197.000957  , 262.96661675,\n",
              "       402.97571367, 268.75540499, 188.31777465, 214.3673217 ,\n",
              "       202.78974524, 265.86101087, 317.35470004, 265.86101087,\n",
              "       248.49464617, 188.31777465, 223.05050406, 191.21216877,\n",
              "       214.3673217 , 323.14348827, 268.75540499, 171.25411242,\n",
              "       225.6421957 , 214.3673217 , 214.3673217 , 262.96661675,\n",
              "       202.78974524, 191.21216877, 205.68413935, 265.86101087,\n",
              "       352.08742945, 202.78974524, 191.21216877, 331.82667063,\n",
              "       262.96661675, 202.78974524, 214.3673217 , 265.86101087,\n",
              "       262.96661675, 188.31777465, 202.78974524, 214.3673217 ,\n",
              "       248.49464617, 248.49464617, 248.49464617, 191.21216877,\n",
              "       265.86101087, 202.78974524, 262.96661675, 217.26171582,\n",
              "       268.75540499, 271.64979911, 268.75540499, 202.78974524,\n",
              "       202.78974524, 323.14348827, 214.3673217 , 191.21216877,\n",
              "       262.96661675, 265.86101087, 363.66500592, 202.78974524,\n",
              "       265.86101087, 265.86101087, 305.77712357, 214.3673217 ,\n",
              "       277.43858734, 202.78974524, 223.05050406, 248.49464617,\n",
              "       197.000957  , 357.87621768, 202.78974524, 265.86101087,\n",
              "       197.000957  , 197.000957  , 385.60934896, 265.86101087,\n",
              "       305.77712357, 363.66500592, 191.21216877, 265.86101087,\n",
              "       265.86101087, 191.21216877, 271.64979911, 217.26171582,\n",
              "       202.78974524, 191.21216877, 317.35470004, 202.78974524,\n",
              "       248.49464617, 257.17782852, 357.87621768, 262.96661675,\n",
              "       217.26171582, 265.86101087, 191.21216877, 248.49464617,\n",
              "       271.64979911, 265.86101087, 357.87621768, 262.96661675,\n",
              "       191.21216877, 323.14348827, 202.78974524, 260.07222264,\n",
              "       385.60934896, 314.46030592, 323.14348827, 286.12176969,\n",
              "       265.86101087, 260.07222264, 217.26171582, 331.82667063,\n",
              "       331.82667063, 357.87621768, 305.77712357, 248.49464617,\n",
              "       254.2834344 , 217.26171582, 202.78974524, 265.86101087,\n",
              "       248.49464617, 268.75540499, 305.77712357, 323.14348827,\n",
              "       248.49464617, 271.64979911, 197.000957  , 234.02267558,\n",
              "       214.3673217 , 265.86101087, 217.26171582, 331.82667063,\n",
              "       202.78974524, 202.78974524, 268.75540499, 265.86101087,\n",
              "       202.78974524, 405.87010779, 262.96661675, 265.86101087,\n",
              "       185.42338053, 345.69323627, 268.75540499, 225.6421957 ,\n",
              "       331.82667063, 214.3673217 , 248.49464617, 331.82667063,\n",
              "       191.21216877, 357.87621768, 382.71495485, 323.14348827,\n",
              "       202.78974524, 294.1995471 , 185.42338053, 197.000957  ,\n",
              "       265.86101087, 248.49464617, 262.96661675, 262.96661675,\n",
              "       202.78974524, 202.78974524, 217.26171582, 202.78974524,\n",
              "       331.82667063, 191.21216877, 202.78974524, 262.96661675,\n",
              "       268.75540499, 217.26171582, 385.60934896, 197.000957  ,\n",
              "       262.96661675, 262.96661675, 248.49464617, 268.75540499,\n",
              "       248.49464617, 225.6421957 , 217.26171582, 343.40424709,\n",
              "       262.96661675, 262.96661675, 191.21216877, 202.78974524,\n",
              "       248.49464617, 265.86101087, 268.75540499, 262.96661675,\n",
              "       262.96661675, 268.75540499, 254.2834344 , 265.86101087,\n",
              "       314.46030592, 191.21216877, 185.42338053, 185.42338053,\n",
              "       314.46030592, 202.78974524, 265.86101087, 217.26171582,\n",
              "       331.82667063, 357.87621768, 202.78974524, 214.3673217 ,\n",
              "       202.78974524, 191.21216877, 262.96661675, 217.26171582,\n",
              "       357.87621768, 185.42338053, 217.26171582, 343.40424709,\n",
              "       405.87010779, 185.42338053, 225.6421957 , 202.78974524,\n",
              "       202.78974524, 294.1995471 , 343.40424709, 265.86101087,\n",
              "       260.07222264, 286.12176969, 202.78974524, 375.24258239,\n",
              "       191.21216877, 214.3673217 , 331.82667063, 265.86101087,\n",
              "       185.42338053, 214.3673217 , 202.78974524, 202.78974524,\n",
              "       323.14348827, 305.77712357, 317.35470004, 214.3673217 ,\n",
              "       262.96661675, 217.26171582, 202.78974524, 305.77712357,\n",
              "       357.87621768, 314.46030592, 248.49464617, 202.78974524,\n",
              "       248.49464617, 223.05050406, 262.96661675, 331.82667063,\n",
              "       345.69323627, 392.00354214, 357.87621768, 248.49464617,\n",
              "       405.87010779, 271.64979911, 314.46030592, 202.78974524,\n",
              "       331.82667063, 202.78974524, 331.82667063, 314.46030592,\n",
              "       343.40424709, 185.42338053, 262.96661675, 363.66500592,\n",
              "       202.78974524, 305.77712357, 265.86101087, 343.40424709,\n",
              "       345.69323627, 262.96661675, 202.78974524, 185.42338053,\n",
              "       331.82667063, 262.96661675, 248.49464617, 214.3673217 ,\n",
              "       202.78974524, 248.49464617, 271.64979911, 317.35470004,\n",
              "       202.78974524, 268.75540499, 248.49464617, 202.78974524,\n",
              "       357.87621768, 331.82667063, 265.86101087, 262.96661675,\n",
              "       268.75540499, 202.78974524, 202.78974524, 202.78974524,\n",
              "       234.02267558, 265.86101087, 191.21216877, 311.5659118 ,\n",
              "       214.3673217 , 202.78974524, 314.46030592, 248.49464617,\n",
              "       185.42338053, 185.42338053, 262.96661675, 265.86101087,\n",
              "       265.86101087, 248.49464617, 268.75540499, 191.21216877,\n",
              "       357.87621768, 363.66500592, 197.000957  , 191.21216877,\n",
              "       191.21216877, 337.61545886, 202.78974524, 202.78974524,\n",
              "       262.96661675, 299.98833533, 343.40424709, 202.78974524,\n",
              "       171.25411242, 248.49464617, 314.46030592, 202.78974524,\n",
              "       299.98833533, 357.87621768, 197.000957  , 214.3673217 ,\n",
              "       337.61545886, 205.68413935, 331.82667063, 343.40424709,\n",
              "       191.21216877, 217.26171582, 352.08742945, 248.49464617,\n",
              "       260.07222264, 331.82667063, 202.78974524, 262.96661675,\n",
              "       217.26171582, 202.78974524, 311.5659118 , 202.78974524,\n",
              "       357.87621768, 331.82667063, 202.78974524, 334.72106474,\n",
              "       225.6421957 , 202.78974524, 225.6421957 , 357.87621768,\n",
              "       202.78974524, 277.43858734, 191.21216877, 202.78974524,\n",
              "       197.000957  , 214.3673217 , 202.78974524, 202.78974524,\n",
              "       262.96661675, 265.86101087, 217.26171582, 357.87621768,\n",
              "       214.3673217 , 337.61545886, 197.000957  , 217.26171582,\n",
              "       305.77712357, 317.35470004, 262.96661675, 305.77712357,\n",
              "       268.75540499, 323.14348827, 202.78974524, 265.86101087,\n",
              "       277.43858734, 323.14348827, 305.77712357, 299.98833533,\n",
              "       202.78974524, 202.78974524, 254.2834344 , 214.3673217 ,\n",
              "       262.96661675, 214.3673217 , 271.64979911, 268.75540499,\n",
              "       317.35470004, 248.49464617, 352.08742945, 248.49464617,\n",
              "       197.000957  , 265.86101087, 262.96661675, 214.3673217 ,\n",
              "       214.3673217 , 191.21216877, 271.64979911, 191.21216877,\n",
              "       331.82667063, 191.21216877, 265.86101087, 202.78974524,\n",
              "       202.78974524, 271.64979911, 323.14348827, 262.96661675,\n",
              "       202.78974524, 260.07222264, 197.000957  , 217.26171582,\n",
              "       265.86101087, 265.86101087, 191.21216877, 334.72106474,\n",
              "       202.78974524, 197.000957  , 262.96661675, 314.46030592,\n",
              "       311.5659118 , 214.3673217 , 265.86101087, 265.86101087,\n",
              "       305.77712357, 217.26171582, 202.78974524, 185.42338053,\n",
              "       337.61545886, 225.6421957 , 185.42338053, 191.21216877,\n",
              "       214.3673217 , 214.3673217 , 402.97571367, 202.78974524,\n",
              "       305.77712357, 265.86101087, 185.42338053, 331.82667063,\n",
              "       357.87621768, 202.78974524, 254.2834344 , 191.21216877,\n",
              "       277.43858734, 262.96661675, 277.43858734, 248.49464617,\n",
              "       248.49464617, 202.78974524, 260.07222264, 262.96661675,\n",
              "       202.78974524, 262.96661675, 331.82667063, 323.14348827,\n",
              "       262.96661675, 268.75540499, 248.49464617, 202.78974524,\n",
              "       257.17782852, 202.78974524, 277.43858734, 268.75540499,\n",
              "       248.49464617, 191.21216877, 257.17782852, 331.82667063,\n",
              "       248.49464617, 331.82667063, 188.31777465, 202.78974524,\n",
              "       385.60934896, 314.46030592, 214.3673217 , 202.78974524,\n",
              "       202.78974524, 311.5659118 , 262.96661675, 214.3673217 ,\n",
              "       234.02267558, 214.3673217 , 202.78974524, 214.3673217 ,\n",
              "       260.07222264, 262.96661675, 202.78974524, 323.14348827,\n",
              "       191.21216877, 217.26171582, 202.78974524, 217.26171582,\n",
              "       185.42338053, 262.96661675, 202.78974524, 214.3673217 ,\n",
              "       265.86101087, 268.75540499, 268.75540499, 352.08742945,\n",
              "       197.000957  , 260.07222264, 331.82667063, 311.5659118 ,\n",
              "       202.78974524, 202.78974524, 248.49464617, 191.21216877,\n",
              "       185.42338053, 277.43858734, 202.78974524, 202.78974524,\n",
              "       260.07222264, 248.49464617, 165.46532418, 323.14348827,\n",
              "       268.75540499, 202.78974524, 191.21216877, 202.78974524,\n",
              "       286.12176969, 217.26171582, 262.96661675, 265.86101087,\n",
              "       191.21216877, 394.29253132, 268.75540499, 265.86101087,\n",
              "       323.14348827, 262.96661675, 217.26171582, 165.46532418,\n",
              "       262.96661675, 337.61545886, 260.07222264, 248.49464617,\n",
              "       323.14348827, 331.82667063, 262.96661675, 277.43858734,\n",
              "       254.2834344 , 314.46030592, 331.82667063, 265.86101087,\n",
              "       323.14348827, 197.000957  , 217.26171582, 265.86101087,\n",
              "       191.21216877, 191.21216877, 260.07222264, 262.96661675,\n",
              "       337.61545886, 438.31384802, 331.82667063, 262.96661675,\n",
              "       314.46030592, 323.14348827, 217.26171582, 202.78974524,\n",
              "       337.61545886, 340.50985298, 262.96661675, 188.31777465,\n",
              "       202.78974524, 202.78974524, 191.21216877, 262.96661675,\n",
              "       214.3673217 , 202.78974524, 191.21216877, 345.69323627,\n",
              "       248.49464617, 202.78974524, 357.87621768, 217.26171582,\n",
              "       197.000957  , 305.77712357, 248.49464617, 197.000957  ,\n",
              "       265.86101087, 197.000957  , 352.08742945, 268.75540499,\n",
              "       265.86101087, 323.14348827, 262.96661675, 357.87621768,\n",
              "       214.3673217 , 262.96661675, 248.49464617, 294.1995471 ,\n",
              "       331.82667063, 323.14348827, 202.78974524, 225.6421957 ,\n",
              "       202.78974524, 340.50985298, 202.78974524, 202.78974524,\n",
              "       191.21216877, 314.46030592, 202.78974524, 202.78974524,\n",
              "       214.3673217 , 323.14348827, 265.86101087, 262.96661675,\n",
              "       331.82667063, 265.86101087, 191.21216877, 299.98833533,\n",
              "       271.64979911, 185.42338053, 314.46030592, 202.78974524,\n",
              "       262.96661675, 265.86101087, 188.31777465, 185.42338053,\n",
              "       262.96661675, 331.82667063, 331.82667063, 265.86101087,\n",
              "       191.21216877, 191.21216877, 265.86101087, 262.96661675,\n",
              "       202.78974524, 202.78974524, 265.86101087, 248.49464617,\n",
              "       262.96661675, 202.78974524, 188.31777465, 357.87621768,\n",
              "       202.78974524, 337.61545886, 248.49464617, 323.14348827,\n",
              "       323.14348827, 214.3673217 , 202.78974524, 248.49464617,\n",
              "       323.14348827, 182.52898641, 202.78974524, 265.86101087,\n",
              "       294.1995471 , 202.78974524, 262.96661675, 257.17782852,\n",
              "       262.96661675, 286.12176969, 265.86101087, 202.78974524,\n",
              "       239.81146382, 323.14348827, 337.61545886, 357.87621768,\n",
              "       382.71495485, 214.3673217 , 257.17782852, 323.14348827,\n",
              "       202.78974524, 217.26171582, 202.78974524, 323.14348827,\n",
              "       202.78974524, 323.14348827, 185.42338053, 334.72106474,\n",
              "       265.86101087, 265.86101087, 197.000957  , 268.75540499,\n",
              "       214.3673217 , 357.87621768, 217.26171582, 314.46030592,\n",
              "       185.42338053, 202.78974524, 286.12176969, 214.3673217 ,\n",
              "       217.26171582, 268.75540499, 191.21216877, 311.5659118 ,\n",
              "       337.61545886, 248.49464617, 271.64979911, 248.49464617,\n",
              "       265.86101087, 214.3673217 , 305.77712357, 197.000957  ,\n",
              "       340.50985298])"
            ]
          },
          "metadata": {},
          "execution_count": 36
        }
      ]
    },
    {
      "cell_type": "code",
      "source": [
        "# Coef and Intercept:\n",
        "m= regr.coef_\n",
        "c= regr.intercept_\n",
        "print ('Coefficients: ', regr.coef_)\n",
        "print ('Intercept: ',regr.intercept_)"
      ],
      "metadata": {
        "id": "4ZHyboNIKfTG",
        "colab": {
          "base_uri": "https://localhost:8080/"
        },
        "outputId": "4ead69bf-07fc-4d46-b97c-b31582c3b566"
      },
      "execution_count": 37,
      "outputs": [
        {
          "output_type": "stream",
          "name": "stdout",
          "text": [
            "Coefficients:  [28.94394117  8.38047988]\n",
            "Intercept:  111.37994337122183\n"
          ]
        }
      ]
    },
    {
      "cell_type": "code",
      "source": [
        "# Evaluation Metrics\n",
        "mse_train = mean_squared_error(y_train, y_pred)\n",
        "mae_train = mean_absolute_error(y_train, y_pred)\n",
        "print(\"Training set evaluation metrics:\")\n",
        "print(\"Mean Squared Error:\", mse_train)\n",
        "print(\"Mean Absolute Error:\", mae_train)"
      ],
      "metadata": {
        "id": "EvuH9DUWp9eN",
        "colab": {
          "base_uri": "https://localhost:8080/"
        },
        "outputId": "c01aef56-0b50-477d-f6da-c5b5a92f77e0"
      },
      "execution_count": 38,
      "outputs": [
        {
          "output_type": "stream",
          "name": "stdout",
          "text": [
            "Training set evaluation metrics:\n",
            "Mean Squared Error: 907.6973344859297\n",
            "Mean Absolute Error: 23.084739820370004\n"
          ]
        }
      ]
    },
    {
      "cell_type": "code",
      "source": [
        "# Scatter plot to visualize the actual vs. predicted CO2EMISSIONS on the training set\n",
        "plt.scatter(y_train,y_pred)\n",
        "plt.xlabel(\"actual CO2EMISSIONS\")\n",
        "plt.ylabel(\"predicted CO2EMISSIONS\")\n",
        "plt.show"
      ],
      "metadata": {
        "id": "2tF6_TK0mS4m",
        "colab": {
          "base_uri": "https://localhost:8080/",
          "height": 470
        },
        "outputId": "3b3f6219-16ee-4ae1-9b3c-c21f08ec0337"
      },
      "execution_count": 39,
      "outputs": [
        {
          "output_type": "execute_result",
          "data": {
            "text/plain": [
              "<function matplotlib.pyplot.show(close=None, block=None)>"
            ]
          },
          "metadata": {},
          "execution_count": 39
        },
        {
          "output_type": "display_data",
          "data": {
            "text/plain": [
              "<Figure size 640x480 with 1 Axes>"
            ],
            "image/png": "[encoded data removed]"
          },
          "metadata": {}
        }
      ]
    }
  ]
}